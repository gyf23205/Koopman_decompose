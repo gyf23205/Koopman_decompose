{
 "cells": [
  {
   "cell_type": "code",
   "execution_count": 3,
   "metadata": {},
   "outputs": [
    {
     "ename": "ModuleNotFoundError",
     "evalue": "No module named 'dill'",
     "output_type": "error",
     "traceback": [
      "\u001b[0;31m---------------------------------------------------------------------------\u001b[0m",
      "\u001b[0;31mModuleNotFoundError\u001b[0m                       Traceback (most recent call last)",
      "Cell \u001b[0;32mIn[3], line 13\u001b[0m\n\u001b[1;32m     10\u001b[0m \u001b[38;5;28;01mimport\u001b[39;00m\u001b[38;5;250m \u001b[39m\u001b[38;5;21;01mrandom\u001b[39;00m\n\u001b[1;32m     12\u001b[0m \u001b[38;5;28;01mfrom\u001b[39;00m\u001b[38;5;250m \u001b[39m\u001b[38;5;21;01mAutoencoder_class\u001b[39;00m\u001b[38;5;250m \u001b[39m\u001b[38;5;28;01mimport\u001b[39;00m \u001b[38;5;241m*\u001b[39m\n\u001b[0;32m---> 13\u001b[0m \u001b[38;5;28;01mfrom\u001b[39;00m\u001b[38;5;250m \u001b[39m\u001b[38;5;21;01mAutoencoder_functions\u001b[39;00m\u001b[38;5;250m \u001b[39m\u001b[38;5;28;01mimport\u001b[39;00m \u001b[38;5;241m*\u001b[39m\n\u001b[1;32m     14\u001b[0m \u001b[38;5;28;01mfrom\u001b[39;00m\u001b[38;5;250m \u001b[39m\u001b[38;5;21;01mdata_functions\u001b[39;00m\u001b[38;5;250m \u001b[39m\u001b[38;5;28;01mimport\u001b[39;00m \u001b[38;5;241m*\u001b[39m\n\u001b[1;32m     16\u001b[0m \u001b[38;5;66;03m# # Seed fix\u001b[39;00m\n\u001b[1;32m     17\u001b[0m \u001b[38;5;66;03m# seed = 10\u001b[39;00m\n\u001b[1;32m     18\u001b[0m \u001b[38;5;66;03m# utils.set_seed(seed)\u001b[39;00m\n\u001b[1;32m     19\u001b[0m \u001b[38;5;66;03m# random.seed(seed)\u001b[39;00m\n",
      "File \u001b[0;32m~/git/Koopman_decompose/src/Autoencoder_functions.py:12\u001b[0m\n\u001b[1;32m     10\u001b[0m \u001b[38;5;28;01mimport\u001b[39;00m\u001b[38;5;250m \u001b[39m\u001b[38;5;21;01mtorch\u001b[39;00m\u001b[38;5;21;01m.\u001b[39;00m\u001b[38;5;21;01moptim\u001b[39;00m\u001b[38;5;250m \u001b[39m\u001b[38;5;28;01mas\u001b[39;00m\u001b[38;5;250m \u001b[39m\u001b[38;5;21;01moptim\u001b[39;00m\n\u001b[1;32m     11\u001b[0m \u001b[38;5;28;01mimport\u001b[39;00m\u001b[38;5;250m \u001b[39m\u001b[38;5;21;01mmatplotlib\u001b[39;00m\u001b[38;5;21;01m.\u001b[39;00m\u001b[38;5;21;01mpyplot\u001b[39;00m\u001b[38;5;250m \u001b[39m\u001b[38;5;28;01mas\u001b[39;00m\u001b[38;5;250m \u001b[39m\u001b[38;5;21;01mplt\u001b[39;00m\n\u001b[0;32m---> 12\u001b[0m \u001b[38;5;28;01mimport\u001b[39;00m\u001b[38;5;250m \u001b[39m\u001b[38;5;21;01mdill\u001b[39;00m\n\u001b[1;32m     14\u001b[0m \u001b[38;5;28;01mdef\u001b[39;00m\u001b[38;5;250m \u001b[39m\u001b[38;5;21mcollect_latent_states\u001b[39m(model, data_loader, conformal \u001b[38;5;241m=\u001b[39m \u001b[38;5;28;01mFalse\u001b[39;00m): \u001b[38;5;66;03m# collect lifted (=latent) states\u001b[39;00m\n\u001b[1;32m     15\u001b[0m     latent_X_list \u001b[38;5;241m=\u001b[39m []\n",
      "\u001b[0;31mModuleNotFoundError\u001b[0m: No module named 'dill'"
     ]
    }
   ],
   "source": [
    "%reload_ext autoreload\n",
    "%autoreload 2\n",
    "\n",
    "# Libraries\n",
    "import matplotlib.pyplot as plt\n",
    "import torch\n",
    "import torch.nn as nn\n",
    "import torch.optim as optim\n",
    "import pickle\n",
    "import random\n",
    "\n",
    "from Autoencoder_class import *\n",
    "from Autoencoder_functions import *\n",
    "from data_functions import *\n",
    "\n",
    "# # Seed fix\n",
    "# seed = 10\n",
    "# utils.set_seed(seed)\n",
    "# random.seed(seed)\n"
   ]
  },
  {
   "cell_type": "markdown",
   "metadata": {},
   "source": [
    "## Van der Pol"
   ]
  },
  {
   "cell_type": "code",
   "execution_count": null,
   "metadata": {},
   "outputs": [],
   "source": [
    "# Simulation parameters\n",
    "dt = 0.1  # time gap\n",
    "simulation_time = 5 # simulation time (= length of each trajectory)\n",
    "iteration_len = int(simulation_time/dt)\n",
    "training_number = 500 # number of training data trajectory\n",
    "testing_number = 100 # number of testing data trajectory (no validation set now)\n",
    "Generate_Koopman_data = True # Load data if false\n",
    "\n",
    "# Conformal prediction parameters - ignore these\n",
    "CP_confidence = 0.99 # confidence bound for ellipsoid (= reachable set bound)\n",
    "CP_sample_number = 1000\n",
    "\n",
    "# Autoencoder & learning parameters\n",
    "hidden_dimension = 20\n",
    "batch_size = int(256)\n",
    "lr = 0.001 # 1e-5\n",
    "p = 20  # future time step for KAE training\n",
    "num_epochs = 100\n",
    "c1, c2, c3 = 1, 1, 1 # loss function parameters\n",
    "c4 = 0.5 # loss function parameter for conformal part (ignore this)\n",
    "temperature = 0.3 # parameter for conformal part (ignore this)\n",
    "\n",
    "dynamics_model = 'vdp'\n",
    "bias = False\n",
    "Koopman_training_trajectory, Koopman_testing_trajectory, state_dimension, input_dimension, state_bounds = generate_dataset(dynamics_model, iteration_len, training_number, testing_number, simulation_time, bias, Generate_Koopman_data)\n",
    "\n",
    "for i in range(0,training_number):\n",
    "    plt.plot(Koopman_training_trajectory[0,0,i],Koopman_training_trajectory[1,0,i],'ro')\n",
    "    plt.plot(Koopman_training_trajectory[0,:,i],Koopman_training_trajectory[1,:,i])\n",
    "\n",
    "for i in range(0,testing_number):\n",
    "    plt.plot(Koopman_testing_trajectory[0,0,i],Koopman_testing_trajectory[1,0,i],'bo')"
   ]
  },
  {
   "cell_type": "code",
   "execution_count": null,
   "metadata": {},
   "outputs": [],
   "source": [
    "# KAE\n",
    "testing_epochs = [10, 20, 30, 40, 50]\n",
    "\n",
    "Conformal = False\n",
    "KAE = KoopmanAutoencoder(state_dimension, hidden_dimension)\n",
    "mean_error_history, var_error_history = train_KAE(KAE, state_dimension, hidden_dimension, batch_size, training_number, lr, \n",
    "              Koopman_training_trajectory, c1, c2, c3, c4, p, temperature, state_bounds, dynamics_model, testing_epochs,\n",
    "              testing_number, testing_number, input_dimension, iteration_len, Koopman_testing_trajectory,\n",
    "              CP_confidence, CP_sample_number, num_epochs, Conformal)\n",
    "\n",
    "# KAE = torch.load(\"models/vdp_KAE_final\"+str(num_epochs)+\"_trj\"+str(training_number)+\".pkl\", weights_only=False)\n",
    "KAE_error = test_KAE(KAE, testing_number, testing_number, state_dimension, input_dimension, iteration_len, Koopman_testing_trajectory)\n",
    "\n",
    "print(mean_error_history)\n",
    "print(var_error_history)\n",
    "\n",
    "print(np.mean(KAE_error))\n",
    "print(np.var(KAE_error))"
   ]
  },
  {
   "cell_type": "code",
   "execution_count": null,
   "metadata": {},
   "outputs": [],
   "source": []
  }
 ],
 "metadata": {
  "kernelspec": {
   "display_name": "Koop",
   "language": "python",
   "name": "python3"
  },
  "language_info": {
   "codemirror_mode": {
    "name": "ipython",
    "version": 3
   },
   "file_extension": ".py",
   "mimetype": "text/x-python",
   "name": "python",
   "nbconvert_exporter": "python",
   "pygments_lexer": "ipython3",
   "version": "3.9.18"
  }
 },
 "nbformat": 4,
 "nbformat_minor": 2
}
